{
  "nbformat": 4,
  "nbformat_minor": 0,
  "metadata": {
    "colab": {
      "provenance": [],
      "authorship_tag": "ABX9TyPxtEI7gYQvio7k7+7dXsGm",
      "include_colab_link": true
    },
    "kernelspec": {
      "name": "python3",
      "display_name": "Python 3"
    },
    "language_info": {
      "name": "python"
    }
  },
  "cells": [
    {
      "cell_type": "markdown",
      "metadata": {
        "id": "view-in-github",
        "colab_type": "text"
      },
      "source": [
        "<a href=\"https://colab.research.google.com/github/AEmanuelli/ML_Sorbonne_2023/blob/main/TME_1_Alexis.ipynb\" target=\"_parent\"><img src=\"https://colab.research.google.com/assets/colab-badge.svg\" alt=\"Open In Colab\"/></a>"
      ]
    },
    {
      "cell_type": "markdown",
      "source": [
        "Q 1.1"
      ],
      "metadata": {
        "id": "9IDCxZnBQvyC"
      }
    },
    {
      "cell_type": "code",
      "execution_count": null,
      "metadata": {
        "id": "XSXKEBTC4jWq"
      },
      "outputs": [],
      "source": [
        "from collections import Counter\n",
        "import math\n",
        "\n",
        "def entropie(vect):\n",
        "    n = len(vect)\n",
        "    hist = Counter(vect)\n",
        "    H = 0.0\n",
        "    #on itère sur les classes de sortie\n",
        "    for y, count in hist.items():\n",
        "        p = count / n\n",
        "        # on ne prend en compte que les classes dans lesquelles on a des exemples \n",
        "        if p != 0: \n",
        "            H -= p * math.log(p, 2)\n",
        "    return H\n"
      ]
    },
    {
      "cell_type": "markdown",
      "source": [
        "Q 1.2"
      ],
      "metadata": {
        "id": "VpCooBrDQz_A"
      }
    },
    {
      "cell_type": "code",
      "source": [
        "def entropie_cond(list_vect):\n",
        "    n = sum(len(vect) for vect in list_vect)\n",
        "    H = 0.0\n",
        "    for vect in list_vect:\n",
        "        m = len(vect)\n",
        "        # On ne s'intéresse qu'aux sous partitions non vides (sinon la proportion est de 0 donc de toute façon on ne le prend pas en compte, et ça évite de diviser par 0)\n",
        "        if m > 0:\n",
        "            p = len(vect) / n\n",
        "            H += p * entropie(vect)\n",
        "    return H\n"
      ],
      "metadata": {
        "id": "6lREQJgQ4si6"
      },
      "execution_count": null,
      "outputs": []
    },
    {
      "cell_type": "markdown",
      "source": [
        "Q 1.3"
      ],
      "metadata": {
        "id": "irqJmhXUTuI_"
      }
    },
    {
      "cell_type": "code",
      "source": [
        "import numpy as np\n",
        "import pickle\n",
        "# data : tableau ( films , features ) , id2titles : dictionnaire id -> titre ,\n",
        "# fields : id feature -> nom\n",
        "[ data , id2titles , fields ] = pickle.load(open(\"/content/imdb_extrait.pkl\", \"rb\"))\n",
        "# la derniere colonne est le vote\n",
        "datax = data[:, :32]\n",
        "datay = np.array([1 if x[33] > 6.5 else -1 for x in data])"
      ],
      "metadata": {
        "id": "yLhIQDZs4u-n"
      },
      "execution_count": null,
      "outputs": []
    },
    {
      "cell_type": "code",
      "source": [],
      "metadata": {
        "id": "tSHP2u9tgkTm"
      },
      "execution_count": null,
      "outputs": []
    },
    {
      "cell_type": "code",
      "source": [
        "# On crée trois dictionnaires vides pour stocker les entropies\n",
        "entropies = {}\n",
        "entropies_cond = {}\n",
        "diff_entropies = {}\n",
        "\n",
        "# On parcourt chaque colonne de notre jeu de données\n",
        "for i in range(datax.shape[1]):\n",
        "    # On vérifie si la colonne est entièrement nulle\n",
        "    if np.array_equal(datax[:,i], np.zeros(len(datax[:,i]))):\n",
        "        # Si oui, on continue à la colonne suivante\n",
        "        continue\n",
        "    else:\n",
        "        # Si non, on sépare les données en fonction de leur valeur dans cette colonne\n",
        "        data_plus = [datay[j] for j in range(len(datay)) if datax[j,i] == 1]\n",
        "        data_moins = [datay[j] for j in range(len(datay)) if datax[j,i] == 0]\n",
        "        \n",
        "        # On calcule les entropies pour les données séparées\n",
        "        entropie_plus = entropie(data_plus)\n",
        "        entropie_moins = entropie(data_moins)\n",
        "        entropie_cond_plus = entropie_cond([data_plus, data_moins])\n",
        "        \n",
        "        # On stocke les entropies dans les dictionnaires correspondants\n",
        "        entropies[fields[i]] = (entropie_plus, entropie_moins)\n",
        "        entropies_cond[fields[i]] = entropie_cond_plus\n",
        "        diff_entropies[fields[i]] = entropie_plus + entropie_moins - entropie_cond_plus\n",
        "\n",
        "\n",
        "# On trouve l'attribut avec la plus grande différence d'entropie\n",
        "best_attribute_index = np.argmax(diff_entropies)\n",
        "best_attribute_name = fields[best_attribute_index]\n",
        "# On affiche le résultat\n",
        "print(f\"{best_attribute_name} (difference = {diff_entropies[best_attribute_name]:.4f})\")"
      ],
      "metadata": {
        "id": "RUVoTw4u4xA0",
        "colab": {
          "base_uri": "https://localhost:8080/"
        },
        "outputId": "d1911ae0-720a-4fc4-9660-4dcc756079c5"
      },
      "execution_count": null,
      "outputs": [
        {
          "output_type": "stream",
          "name": "stdout",
          "text": [
            "Sci-Fi (difference = 0.9913)\n"
          ]
        }
      ]
    },
    {
      "cell_type": "markdown",
      "source": [
        "Une valeur de 0 pour la différence d'entropie signifie que l'attribut ne fournit aucune information supplémentaire pour la classification. Une valeur de 1 signifie qu'il fournit une information maximale pour la classification.\n",
        "\n",
        "Le meilleur attribut pour la partition est Sci-Fi puisqu'il maximise la différence entre entropie et entropie conditionnelle."
      ],
      "metadata": {
        "id": "cB8wkOnPTreJ"
      }
    },
    {
      "cell_type": "markdown",
      "source": [
        "Q 1.4"
      ],
      "metadata": {
        "id": "RndJjCk5Ts3P"
      }
    },
    {
      "cell_type": "code",
      "source": [
        "from sklearn.tree import export_graphviz\n",
        "from sklearn.tree import DecisionTreeClassifier as DTree \n",
        "import pydotplus\n",
        "\n",
        "# Liste de profondeurs pour les arbres\n",
        "depths = [2, 5, 10]\n",
        "\n",
        "# Boucle pour entraîner et visualiser les arbres\n",
        "for depth in depths:\n",
        "    # Initialisation de l'arbre\n",
        "    dt = DTree(max_depth=depth, min_samples_split=2)\n",
        "    \n",
        "    # Entraînement de l'arbre\n",
        "    dt.fit(datax, datay)\n",
        "    \n",
        "    # Exportation de l'arbre au format Graphviz\n",
        "    id2genre = [x[1] for x in sorted(fields.items())[:-2]]\n",
        "    dot_data = export_graphviz(dt, out_file=None, feature_names=id2genre)\n",
        "    \n",
        "    # Création de l'objet PDF à partir des données Graphviz\n",
        "    graph = pydotplus.graph_from_dot_data(dot_data)\n",
        "    graph.write_pdf(f\"tree_{depth}.pdf\")\n"
      ],
      "metadata": {
        "id": "jZ9I-sCq-VHu"
      },
      "execution_count": null,
      "outputs": []
    },
    {
      "cell_type": "markdown",
      "source": [
        "Plus la profondeur de l'arbre augmente, moins d'exemples sont séparés à chaque niveau. \n",
        "C’est normal étant donné que plus la profondeur augmente plus la classification devient précise au niveau de 'échantillon étudié."
      ],
      "metadata": {
        "id": "xN9g_E8JQtJX"
      }
    },
    {
      "cell_type": "markdown",
      "source": [
        "Q 1.5"
      ],
      "metadata": {
        "id": "eGjlYWtecQuB"
      }
    },
    {
      "cell_type": "code",
      "source": [
        "# Liste de profondeurs pour les arbres\n",
        "depths = [2, 5, 10]\n",
        "\n",
        "# Boucle pour entraîner et calculer les scores\n",
        "for depth in depths:\n",
        "    # Initialisation de l'arbre\n",
        "    dt = DTree(max_depth=depth, min_samples_split=2)\n",
        "    \n",
        "    # Entraînement de l'arbre\n",
        "    dt.fit(datax, datay)\n",
        "    \n",
        "    # Exportation de l'arbre au format Graphviz\n",
        "    id2genre = [x[1] for x in sorted(fields.items())[:-2]]\n",
        "    dt.fit(datax ,datay)\n",
        "    print(dt.score(datax,datay))"
      ],
      "metadata": {
        "id": "mdA0pVC-MGcv"
      },
      "execution_count": null,
      "outputs": []
    },
    {
      "cell_type": "markdown",
      "source": [
        "Le score augmente avec la profondeur : c'est normal puisque l'on évalue nos résultats sur les données avec lesquelles on a entrainés nos modèles."
      ],
      "metadata": {
        "id": "eiH4i6FEQujN"
      }
    },
    {
      "cell_type": "markdown",
      "source": [
        "Q 1.6 \n",
        "\n",
        "\n",
        "Non ces scores sont des mauvais indicateurs puisqu'ils reflètent la capacité de l'algorithme à classifier les exemples sur lesquels il s'est entrainé sans que l'on ai d'information sur sa capacité à généraliser. Un indicateur plus fiable serait le score de notre modèle sur un échantillon qu'il n'a pas encore rencontré."
      ],
      "metadata": {
        "id": "XmRA7Hnkc4tW"
      }
    },
    {
      "cell_type": "markdown",
      "source": [
        "Q 1.7"
      ],
      "metadata": {
        "id": "dk0IiWbpilIv"
      }
    },
    {
      "cell_type": "code",
      "source": [
        "import matplotlib.pyplot as plt\n",
        "from sklearn.tree import DecisionTreeClassifier as DTree\n",
        "from sklearn.model_selection import train_test_split\n",
        "\n",
        "\n",
        "\n",
        "# Définition des profondeurs maximales à tester\n",
        "max_depths = range(1, 21)\n",
        "\n",
        "# Définition des différents partages en train/test\n",
        "split_ratios = [(0.2, 0.8), (0.5, 0.5), (0.8, 0.2)]\n",
        "\n",
        "# Boucle sur les différents partages\n",
        "for split_ratio in split_ratios:\n",
        "    train_errors = []\n",
        "    test_errors = []\n",
        "    # Boucle sur les différentes profondeurs\n",
        "    for max_depth in max_depths:\n",
        "        # Partitionnement aléatoire en train/test\n",
        "        X_train, X_test, y_train, y_test = train_test_split(datax, datay, test_size=split_ratio[1], random_state=42)\n",
        "        # Apprentissage du modèle\n",
        "        dt = DTree(max_depth=max_depth)\n",
        "        dt.fit(X_train, y_train)\n",
        "        # Calcul des erreurs d'apprentissage et de test\n",
        "        train_error = 1 - dt.score(X_train, y_train)\n",
        "        test_error = 1 - dt.score(X_test, y_test)\n",
        "        # Stockage des erreurs\n",
        "        train_errors.append(train_error)\n",
        "        test_errors.append(test_error)\n",
        "    # Tracé des courbes pour ce partage\n",
        "    plt.plot(max_depths, train_errors, label=f\"Train error {split_ratio}\")\n",
        "    plt.plot(max_depths, test_errors, label=f\"Test error {split_ratio}\")\n",
        "# Paramètres du graphique\n",
        "\n",
        "plt.xlabel(\"Profondeur de l'arbre\")\n",
        "plt.ylabel(\"Erreur\")\n",
        "plt.legend()\n",
        "plt.show()\n"
      ],
      "metadata": {
        "colab": {
          "base_uri": "https://localhost:8080/",
          "height": 279
        },
        "id": "YUtmQ9tEc2JX",
        "outputId": "6034ce1b-7296-48f6-d8fc-99f6610bf290"
      },
      "execution_count": null,
      "outputs": [
        {
          "output_type": "display_data",
          "data": {
            "text/plain": [
              "<Figure size 432x288 with 1 Axes>"
            ],
            "image/png": "[encoded data removed]"
          },
          "metadata": {
            "needs_background": "light"
          }
        }
      ]
    },
    {
      "cell_type": "code",
      "source": [],
      "metadata": {
        "id": "C_lHkC8DkPtX"
      },
      "execution_count": null,
      "outputs": []
    },
    {
      "cell_type": "markdown",
      "source": [
        "Q 1.8 Dans tout les cas l'erreur d'apprentissage décroit avec la profondeur de l'arbre, tandis que l'erreur de test a une forme de U : elle diminue puis croît à nouveau.\n",
        "\n",
        "Quand il y a peu d'exemples d'apprentissage, l'erreur d'apprentissage est plus faible tandis que celle de test est plus élevée.\n",
        "\n",
        "Quand il y a beaucoup d'exemples d'apprentissage, l'erreur d'apprentissage est plus élevée et celle de test est plus faible : l'algorithme généralise donc mieux.\n",
        "\n",
        "\n",
        "\n",
        "Q 1.9: Les résultats obtenus ne semblent pas très fiables car ils varient beaucoup entre apprentissage et test. Pour améliorer la fiabilité des résultats, on peut réaliser une validation croisée (cross-validation) en utilisant plusieurs partitions différentes et en moyennant les résultats. On peut également augmenter le nombre d'exemples d'apprentissage pour améliorer la stabilité des résultats. Enfin, il peut être utile d'explorer d'autres paramètres de l'algorithme, comme le nombre minimal d'exemples par feuille (min_samples_leaf) ou le critère de split (criterion), afin de trouver le meilleur modèle."
      ],
      "metadata": {
        "id": "zgYXDy06ig25"
      }
    },
    {
      "cell_type": "markdown",
      "source": [
        "Q 1.10"
      ],
      "metadata": {
        "id": "JTfbqHJRh95p"
      }
    },
    {
      "cell_type": "code",
      "source": [
        "from sklearn.model_selection import cross_val_score\n",
        "\n",
        "\n",
        "# Définition des profondeurs maximales à tester\n",
        "max_depths = range(1, 21)\n",
        "\n",
        "# Définition de la partition pour la validation croisée\n",
        "cv_partition = 5\n",
        "\n",
        "# Stockage des erreurs de validation croisée\n",
        "cv_errors = []\n",
        "\n",
        "# Boucle sur les différentes profondeurs\n",
        "for max_depth in max_depths:\n",
        "    # Initialisation de l'arbre\n",
        "    dt = DTree(max_depth=max_depth)\n",
        "    \n",
        "    # Calcul des erreurs de validation croisée\n",
        "    cv_score = cross_val_score(dt, datax, datay, cv=cv_partition, scoring='accuracy')\n",
        "    cv_error = 1 - cv_score.mean()\n",
        "    \n",
        "    # Stockage de l'erreur de validation croisée\n",
        "    cv_errors.append(cv_error)\n",
        "\n",
        "# Tracé de la courbe d'erreur de validation croisée\n",
        "plt.plot(max_depths, cv_errors)\n",
        "plt.xlabel(\"Profondeur de l'arbre\")\n",
        "plt.ylabel(\"Erreur de validation croisée\")\n",
        "plt.show()\n"
      ],
      "metadata": {
        "id": "4FEcJUlK-UIV",
        "colab": {
          "base_uri": "https://localhost:8080/",
          "height": 279
        },
        "outputId": "f844aaa9-ebe0-40b3-82d0-67941f5afd04"
      },
      "execution_count": null,
      "outputs": [
        {
          "output_type": "display_data",
          "data": {
            "text/plain": [
              "<Figure size 432x288 with 1 Axes>"
            ],
            "image/png": "[encoded data removed]"
          },
          "metadata": {
            "needs_background": "light"
          }
        }
      ]
    },
    {
      "cell_type": "markdown",
      "source": [
        "la valeur optimale de profondeur de l'arbre est de 7. En desosus on est en sous apprentissage et au dessus en suraprentissage. "
      ],
      "metadata": {
        "id": "xqZizTePif_b"
      }
    },
    {
      "cell_type": "markdown",
      "source": [],
      "metadata": {
        "id": "mqWCOe9Dh650"
      }
    },
    {
      "cell_type": "markdown",
      "source": [],
      "metadata": {
        "id": "oAO6RPFbh8wE"
      }
    }
  ]
}